{
  "nbformat": 4,
  "nbformat_minor": 0,
  "metadata": {
    "colab": {
      "name": "Untitled1.ipynb",
      "provenance": [],
      "authorship_tag": "ABX9TyP4AW1e8xVWnkIldXK7zZYg",
      "include_colab_link": true
    },
    "kernelspec": {
      "name": "python3",
      "display_name": "Python 3"
    },
    "language_info": {
      "name": "python"
    }
  },
  "cells": [
    {
      "cell_type": "markdown",
      "metadata": {
        "id": "view-in-github",
        "colab_type": "text"
      },
      "source": [
        "<a href=\"https://colab.research.google.com/github/bittles/ggoglecolab2/blob/master/Untitled1.ipynb\" target=\"_parent\"><img src=\"https://colab.research.google.com/assets/colab-badge.svg\" alt=\"Open In Colab\"/></a>"
      ]
    },
    {
      "cell_type": "code",
      "metadata": {
        "id": "zUGwksEiK2uS",
        "colab": {
          "base_uri": "https://localhost:8080/"
        },
        "outputId": "50246b8d-23ea-475c-b638-b55d564fe45a"
      },
      "source": [
        "players = [\n",
        "           {\n",
        "            'name': 'Aaron Jones',\n",
        "            'rushing_yds': 1084,\n",
        "            'rushing_att': 236\n",
        "           },\n",
        "           {\n",
        "            'name': 'Derrick Henry',\n",
        "            'rushing_yds': 1540,\n",
        "            'rushing_att': 303\n",
        "           },\n",
        "           {\n",
        "            'name': 'Mark Ingram',\n",
        "            'rushing_yds': 1018,\n",
        "            'rushing_att': 202\n",
        "           }\n",
        "]\n",
        "\n",
        "for player in players:\n",
        "  name = player.get('name', None)\n",
        "  rushing_yds = player.get('rushing_yds', None)\n",
        "  rushing_att = player.get('rushing_att', None)\n",
        "  if name and rushing_yds and rushing_att:\n",
        "    print(name + ' had a yard per carry average of ' + str(rushing_yds/rushing_att))"
      ],
      "execution_count": 2,
      "outputs": [
        {
          "output_type": "stream",
          "name": "stdout",
          "text": [
            "Aaron Jones had a yard per carry average of 4.593220338983051\n",
            "Derrick Henry had a yard per carry average of 5.082508250825082\n",
            "Mark Ingram had a yard per carry average of 5.03960396039604\n"
          ]
        }
      ]
    }
  ]
}